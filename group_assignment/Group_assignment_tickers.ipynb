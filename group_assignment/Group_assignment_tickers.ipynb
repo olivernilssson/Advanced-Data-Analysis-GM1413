{
 "cells": [
  {
   "cell_type": "code",
   "execution_count": 1,
   "metadata": {},
   "outputs": [],
   "source": [
    "import random"
   ]
  },
  {
   "cell_type": "markdown",
   "metadata": {},
   "source": [
    "# DO NOT! change the random seed!\n",
    "# <b><u>DO NOT RERUN this notebook. </u></b>\n",
    "You will get a different list and your group will use the wrong set of ticker."
   ]
  },
  {
   "cell_type": "code",
   "execution_count": 2,
   "metadata": {},
   "outputs": [],
   "source": [
    "random.seed(42)"
   ]
  },
  {
   "cell_type": "code",
   "execution_count": 3,
   "metadata": {
    "scrolled": true,
    "tags": []
   },
   "outputs": [
    {
     "name": "stdout",
     "output_type": "stream",
     "text": [
      "89\n"
     ]
    },
    {
     "data": {
      "text/plain": [
       "['C',\n",
       " 'MS',\n",
       " 'XOM',\n",
       " 'BKNG',\n",
       " 'ADBE',\n",
       " 'FB',\n",
       " 'AZN',\n",
       " 'AMZN',\n",
       " 'NVDA',\n",
       " 'MCO',\n",
       " 'UNH',\n",
       " 'LMT',\n",
       " 'AAPL',\n",
       " 'ACN',\n",
       " 'MA',\n",
       " 'UNP',\n",
       " 'AMGN',\n",
       " 'ASML',\n",
       " 'CMCSA',\n",
       " 'LLY',\n",
       " 'GS',\n",
       " 'NFLX',\n",
       " 'BA',\n",
       " 'TSLA',\n",
       " 'WFC',\n",
       " 'SNY',\n",
       " 'DHR',\n",
       " 'JNJ',\n",
       " 'HON',\n",
       " 'MSFT',\n",
       " 'SAP',\n",
       " 'PEP',\n",
       " 'CVS',\n",
       " 'AMD',\n",
       " 'AXP',\n",
       " 'EBAY',\n",
       " 'V',\n",
       " 'INTC',\n",
       " 'CHTR',\n",
       " 'TGT',\n",
       " 'TMUS',\n",
       " 'BLK',\n",
       " 'NVS',\n",
       " 'MDT',\n",
       " 'ISRG',\n",
       " 'PM',\n",
       " 'PG',\n",
       " 'DUK',\n",
       " 'IBM',\n",
       " 'NKE',\n",
       " 'BMY',\n",
       " 'GOOG',\n",
       " 'VZ',\n",
       " 'TMO',\n",
       " 'BX',\n",
       " 'DIS',\n",
       " 'QCOM',\n",
       " 'MRK',\n",
       " 'UPS',\n",
       " 'INTU',\n",
       " 'NVO',\n",
       " 'ABT',\n",
       " 'LOW',\n",
       " 'MET',\n",
       " 'CVX',\n",
       " 'BAC',\n",
       " 'ORCL',\n",
       " 'FDX',\n",
       " 'JPM',\n",
       " 'SBUX',\n",
       " 'TD',\n",
       " 'COST',\n",
       " 'WMT',\n",
       " 'HD',\n",
       " 'CRM',\n",
       " 'ABBV',\n",
       " 'TXN',\n",
       " 'F',\n",
       " 'MCD',\n",
       " 'AMT',\n",
       " 'TSM',\n",
       " 'PFE',\n",
       " 'CSCO',\n",
       " 'EL',\n",
       " 'KO',\n",
       " 'T',\n",
       " 'GM',\n",
       " 'RY',\n",
       " 'SE']"
      ]
     },
     "execution_count": 3,
     "metadata": {},
     "output_type": "execute_result"
    }
   ],
   "source": [
    "import os\n",
    "\n",
    "# Define the folder path\n",
    "folder_path = \"transcripts\"\n",
    "\n",
    "# Get all files in the folder\n",
    "all_files = os.listdir(folder_path)\n",
    "\n",
    "# Create a list of all files that end with '.p'\n",
    "tickers = [file[:-2] for file in all_files if file.endswith('.p')]\n",
    "\n",
    "# Print the list of file names without '.p'\n",
    "print(len(tickers))\n",
    "tickers"
   ]
  },
  {
   "cell_type": "code",
   "execution_count": 4,
   "metadata": {},
   "outputs": [
    {
     "name": "stdout",
     "output_type": "stream",
     "text": [
      "['C', 'MS', 'XOM', 'BKNG', 'ADBE', 'FB', 'AZN', 'AMZN', 'NVDA', 'MCO', 'UNH', 'LMT', 'AAPL', 'ACN', 'MA', 'UNP', 'AMGN', 'ASML', 'CMCSA', 'LLY', 'GS', 'NFLX', 'BA', 'TSLA', 'WFC', 'SNY', 'DHR', 'JNJ', 'HON', 'MSFT', 'SAP', 'PEP', 'CVS', 'AMD', 'AXP', 'EBAY', 'V', 'INTC', 'CHTR', 'TGT', 'TMUS', 'BLK', 'NVS', 'MDT', 'ISRG', 'PM', 'PG', 'DUK', 'IBM', 'NKE', 'BMY', 'GOOG', 'VZ', 'TMO', 'BX', 'DIS', 'QCOM', 'MRK', 'UPS', 'INTU', 'NVO', 'ABT', 'LOW', 'MET', 'CVX', 'BAC', 'ORCL', 'FDX', 'JPM', 'SBUX', 'TD', 'COST', 'WMT', 'HD', 'CRM', 'ABBV', 'TXN', 'F', 'MCD', 'AMT', 'TSM', 'PFE', 'CSCO', 'EL', 'KO', 'T', 'GM', 'RY', 'SE']\n"
     ]
    }
   ],
   "source": [
    "print(tickers)"
   ]
  },
  {
   "cell_type": "code",
   "execution_count": 5,
   "metadata": {},
   "outputs": [
    {
     "name": "stdout",
     "output_type": "stream",
     "text": [
      "Group 1 has ticker:\n",
      "['PFE', 'MA', 'BKNG', 'EBAY', 'PEP', 'HON', 'ASML', 'ACN', 'SBUX', 'LMT', 'ABBV', 'BX', 'ADBE', 'GM', 'AMT', 'JNJ', 'MSFT', 'CVX', 'MCD', 'SNY', 'TMO', 'EL', 'MRK', 'T', 'C', 'GS', 'ISRG', 'HD', 'NFLX', 'CSCO', 'MCO', 'SE', 'IBM', 'NVO', 'AZN', 'FB', 'WFC', 'F', 'BA', 'BMY']\n",
      "--------------------------------------------------------------------------------------------------------------------------\n",
      "\n",
      "Group 2 has ticker:\n",
      "['F', 'AMD', 'FB', 'UPS', 'JPM', 'UNP', 'IBM', 'UNH', 'TD', 'INTC', 'PG', 'HD', 'WFC', 'NVDA', 'GM', 'MSFT', 'AMT', 'PFE', 'SE', 'AAPL', 'CSCO', 'EBAY', 'T', 'MCD', 'GS', 'DUK', 'BA', 'ACN', 'NVS', 'ASML', 'ISRG', 'MDT', 'BLK', 'ADBE', 'CHTR', 'TMUS', 'COST', 'AXP', 'BAC', 'EL']\n",
      "--------------------------------------------------------------------------------------------------------------------------\n",
      "\n",
      "Group 3 has ticker:\n",
      "['GS', 'INTU', 'IBM', 'AXP', 'PFE', 'COST', 'HON', 'BLK', 'AMZN', 'MSFT', 'ADBE', 'TMUS', 'GOOG', 'T', 'NVDA', 'JNJ', 'WMT', 'F', 'HD', 'MET', 'BMY', 'UPS', 'CMCSA', 'AMD', 'ASML', 'PEP', 'DUK', 'EBAY', 'ABBV', 'AMGN', 'LOW', 'INTC', 'TD', 'MRK', 'SNY', 'TSLA', 'MA', 'CRM', 'CVS', 'SBUX']\n",
      "--------------------------------------------------------------------------------------------------------------------------\n",
      "\n",
      "Group 4 has ticker:\n",
      "['LMT', 'AZN', 'MA', 'LLY', 'TSM', 'GS', 'BX', 'TXN', 'NVDA', 'NKE', 'IBM', 'PFE', 'INTU', 'FDX', 'CVS', 'TD', 'MS', 'GM', 'JPM', 'AXP', 'MDT', 'COST', 'INTC', 'DIS', 'EL', 'UPS', 'C', 'ABT', 'PG', 'QCOM', 'NVO', 'AMGN', 'CRM', 'MCD', 'SE', 'F', 'RY', 'TMUS', 'T', 'GOOG']\n",
      "--------------------------------------------------------------------------------------------------------------------------\n",
      "\n",
      "Group 5 has ticker:\n",
      "['CVX', 'F', 'SNY', 'LLY', 'DUK', 'GS', 'SBUX', 'FDX', 'C', 'TXN', 'BLK', 'LOW', 'XOM', 'MA', 'PG', 'TGT', 'SAP', 'AMZN', 'WMT', 'UNH', 'CSCO', 'RY', 'NVDA', 'AMGN', 'BAC', 'NVO', 'MET', 'EBAY', 'JPM', 'SE', 'AMD', 'DIS', 'CHTR', 'JNJ', 'ACN', 'AXP', 'IBM', 'CRM', 'ISRG', 'AAPL']\n",
      "--------------------------------------------------------------------------------------------------------------------------\n",
      "\n",
      "Group 6 has ticker:\n",
      "['TGT', 'GOOG', 'T', 'EL', 'DUK', 'QCOM', 'ORCL', 'MRK', 'UNP', 'PEP', 'HON', 'NVDA', 'MDT', 'XOM', 'TD', 'MSFT', 'MCD', 'C', 'MCO', 'AMZN', 'HD', 'F', 'ADBE', 'NVS', 'CRM', 'SAP', 'ASML', 'BAC', 'AMT', 'ACN', 'AXP', 'FDX', 'PG', 'V', 'DIS', 'MET', 'TSM', 'BMY', 'TMO', 'DHR']\n",
      "--------------------------------------------------------------------------------------------------------------------------\n",
      "\n",
      "Group 7 has ticker:\n",
      "['WFC', 'AAPL', 'RY', 'KO', 'DIS', 'PM', 'BX', 'VZ', 'INTU', 'AZN', 'GM', 'AMZN', 'GOOG', 'MDT', 'ACN', 'PEP', 'SE', 'WMT', 'JPM', 'MRK', 'ASML', 'CSCO', 'TSLA', 'EBAY', 'TSM', 'HD', 'T', 'CVX', 'ADBE', 'HON', 'TXN', 'LOW', 'FDX', 'BAC', 'AMT', 'BKNG', 'BLK', 'AXP', 'C', 'FB']\n",
      "--------------------------------------------------------------------------------------------------------------------------\n",
      "\n",
      "Group 8 has ticker:\n",
      "['SAP', 'NFLX', 'VZ', 'LOW', 'ABT', 'JNJ', 'GOOG', 'AMZN', 'RY', 'IBM', 'C', 'NKE', 'AMD', 'UPS', 'V', 'BX', 'COST', 'T', 'LLY', 'WFC', 'INTC', 'EL', 'PFE', 'ORCL', 'TMUS', 'BAC', 'BKNG', 'JPM', 'SE', 'CVS', 'ABBV', 'HD', 'TXN', 'UNH', 'WMT', 'INTU', 'FB', 'LMT', 'ADBE', 'CHTR']\n",
      "--------------------------------------------------------------------------------------------------------------------------\n",
      "\n",
      "Group 9 has ticker:\n",
      "['NVDA', 'GM', 'SAP', 'GOOG', 'UNP', 'WMT', 'PEP', 'CRM', 'TXN', 'FB', 'UNH', 'TMO', 'PFE', 'EL', 'ORCL', 'TMUS', 'AMD', 'DHR', 'HD', 'RY', 'ABBV', 'BMY', 'AMGN', 'CHTR', 'UPS', 'TD', 'INTU', 'IBM', 'LOW', 'ADBE', 'C', 'MSFT', 'TGT', 'V', 'AZN', 'NVO', 'AXP', 'ACN', 'CVS', 'TSM']\n",
      "--------------------------------------------------------------------------------------------------------------------------\n",
      "\n",
      "Group 10 has ticker:\n",
      "['AMGN', 'ISRG', 'NVDA', 'PEP', 'DUK', 'V', 'GS', 'QCOM', 'SBUX', 'CHTR', 'MCD', 'FDX', 'MS', 'TD', 'AMT', 'ACN', 'ASML', 'AMD', 'MA', 'HD', 'LLY', 'AXP', 'EL', 'DHR', 'MDT', 'BAC', 'CVX', 'TMUS', 'BX', 'SE', 'CVS', 'T', 'INTU', 'NVO', 'BKNG', 'FB', 'ABT', 'JNJ', 'WMT', 'XOM']\n",
      "--------------------------------------------------------------------------------------------------------------------------\n",
      "\n"
     ]
    }
   ],
   "source": [
    "for i in range(1, 11):\n",
    "    print('Group', i, 'has ticker:')\n",
    "\n",
    "    # Get 100 random tickers from the list\n",
    "    tickers_sample = random.sample(tickers, 40)\n",
    "    print(tickers_sample)\n",
    "\n",
    "    print('--------------------------------------------------------------------------------------------------------------------------')\n",
    "    print()"
   ]
  },
  {
   "cell_type": "code",
   "execution_count": null,
   "metadata": {},
   "outputs": [],
   "source": []
  }
 ],
 "metadata": {
  "kernelspec": {
   "display_name": "islp",
   "language": "python",
   "name": "python3"
  },
  "language_info": {
   "codemirror_mode": {
    "name": "ipython",
    "version": 3
   },
   "file_extension": ".py",
   "mimetype": "text/x-python",
   "name": "python",
   "nbconvert_exporter": "python",
   "pygments_lexer": "ipython3",
   "version": "3.12.2"
  }
 },
 "nbformat": 4,
 "nbformat_minor": 4
}
