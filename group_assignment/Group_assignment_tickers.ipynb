{
 "cells": [
  {
   "cell_type": "code",
   "execution_count": 1,
   "metadata": {},
   "outputs": [],
   "source": [
    "import random"
   ]
  },
  {
   "cell_type": "markdown",
   "metadata": {},
   "source": [
    "# DO NOT! change the random seed!\n",
    "# <b><u>DO NOT RERUN this notebook. </u></b>\n",
    "You will get a different list and your group will use the wrong set of ticker."
   ]
  },
  {
   "cell_type": "code",
   "execution_count": 2,
   "metadata": {},
   "outputs": [],
   "source": [
    "random.seed(42)"
   ]
  },
  {
   "cell_type": "code",
   "execution_count": 3,
   "metadata": {
    "scrolled": true,
    "tags": []
   },
   "outputs": [
    {
     "name": "stdout",
     "output_type": "stream",
     "text": [
      "89\n"
     ]
    },
    {
     "data": {
      "text/plain": [
       "['ABT',\n",
       " 'AMGN',\n",
       " 'ABBV',\n",
       " 'ASML',\n",
       " 'AMD',\n",
       " 'ADBE',\n",
       " 'AMT',\n",
       " 'BA',\n",
       " 'AZN',\n",
       " 'AXP',\n",
       " 'BMY',\n",
       " 'EBAY',\n",
       " 'BAC',\n",
       " 'IBM',\n",
       " 'EL',\n",
       " 'C',\n",
       " 'BLK',\n",
       " 'MCD',\n",
       " 'HD',\n",
       " 'GS',\n",
       " 'JNJ',\n",
       " 'ACN',\n",
       " 'F',\n",
       " 'AMZN',\n",
       " 'GOOG',\n",
       " 'FB',\n",
       " 'INTC',\n",
       " 'DUK',\n",
       " 'LLY',\n",
       " 'CVS',\n",
       " 'BX',\n",
       " 'BKNG',\n",
       " 'GM',\n",
       " 'LMT',\n",
       " 'LOW',\n",
       " 'FDX',\n",
       " 'CHTR',\n",
       " 'PFE',\n",
       " 'UNH',\n",
       " 'DIS',\n",
       " 'COST',\n",
       " 'PG',\n",
       " 'PM',\n",
       " 'CMCSA',\n",
       " 'MDT',\n",
       " 'NVDA',\n",
       " 'HON',\n",
       " 'MA',\n",
       " 'MS',\n",
       " 'INTU',\n",
       " 'MSFT',\n",
       " 'TGT',\n",
       " 'DHR',\n",
       " 'MCO',\n",
       " 'KO',\n",
       " 'CVX',\n",
       " 'CRM',\n",
       " 'SE',\n",
       " 'CSCO',\n",
       " 'TMUS',\n",
       " 'TSLA',\n",
       " 'MRK',\n",
       " 'NFLX',\n",
       " 'SNY',\n",
       " 'NVS',\n",
       " 'JPM',\n",
       " 'TD',\n",
       " 'NVO',\n",
       " 'QCOM',\n",
       " 'TMO',\n",
       " 'ORCL',\n",
       " 'ISRG',\n",
       " 'MET',\n",
       " 'PEP',\n",
       " 'AAPL',\n",
       " 'SBUX',\n",
       " 'TSM',\n",
       " 'TXN',\n",
       " 'NKE',\n",
       " 'UPS',\n",
       " 'SAP',\n",
       " 'T',\n",
       " 'RY',\n",
       " 'XOM',\n",
       " 'V',\n",
       " 'UNP',\n",
       " 'WMT',\n",
       " 'VZ',\n",
       " 'WFC']"
      ]
     },
     "execution_count": 3,
     "metadata": {},
     "output_type": "execute_result"
    }
   ],
   "source": [
    "import os\n",
    "\n",
    "# Define the folder path\n",
    "folder_path = \"transcripts\"\n",
    "\n",
    "# Get all files in the folder\n",
    "all_files = os.listdir(folder_path)\n",
    "\n",
    "# Create a list of all files that end with '.p'\n",
    "tickers = [file[:-2] for file in all_files if file.endswith('.p')]\n",
    "\n",
    "# Print the list of file names without '.p'\n",
    "print(len(tickers))\n",
    "tickers"
   ]
  },
  {
   "cell_type": "code",
   "execution_count": 4,
   "metadata": {},
   "outputs": [
    {
     "name": "stdout",
     "output_type": "stream",
     "text": [
      "['ABT', 'AMGN', 'ABBV', 'ASML', 'AMD', 'ADBE', 'AMT', 'BA', 'AZN', 'AXP', 'BMY', 'EBAY', 'BAC', 'IBM', 'EL', 'C', 'BLK', 'MCD', 'HD', 'GS', 'JNJ', 'ACN', 'F', 'AMZN', 'GOOG', 'FB', 'INTC', 'DUK', 'LLY', 'CVS', 'BX', 'BKNG', 'GM', 'LMT', 'LOW', 'FDX', 'CHTR', 'PFE', 'UNH', 'DIS', 'COST', 'PG', 'PM', 'CMCSA', 'MDT', 'NVDA', 'HON', 'MA', 'MS', 'INTU', 'MSFT', 'TGT', 'DHR', 'MCO', 'KO', 'CVX', 'CRM', 'SE', 'CSCO', 'TMUS', 'TSLA', 'MRK', 'NFLX', 'SNY', 'NVS', 'JPM', 'TD', 'NVO', 'QCOM', 'TMO', 'ORCL', 'ISRG', 'MET', 'PEP', 'AAPL', 'SBUX', 'TSM', 'TXN', 'NKE', 'UPS', 'SAP', 'T', 'RY', 'XOM', 'V', 'UNP', 'WMT', 'VZ', 'WFC']\n"
     ]
    }
   ],
   "source": [
    "print(tickers)"
   ]
  },
  {
   "cell_type": "code",
   "execution_count": 5,
   "metadata": {},
   "outputs": [
    {
     "name": "stdout",
     "output_type": "stream",
     "text": [
      "Group 1 has ticker:\n",
      "['T', 'EL', 'ASML', 'FDX', 'BKNG', 'LLY', 'MCD', 'IBM', 'TMO', 'EBAY', 'SBUX', 'KO', 'AMD', 'WMT', 'UPS', 'DUK', 'CVS', 'NVS', 'NKE', 'FB', 'MCO', 'XOM', 'SE', 'UNP', 'ABT', 'JNJ', 'MDT', 'PEP', 'ACN', 'RY', 'AXP', 'WFC', 'MS', 'TSLA', 'AMT', 'ADBE', 'GOOG', 'TXN', 'F', 'MSFT']\n",
      "--------------------------------------------------------------------------------------------------------------------------\n",
      "\n",
      "Group 2 has ticker:\n",
      "['TXN', 'LMT', 'ADBE', 'CSCO', 'QCOM', 'C', 'MS', 'BMY', 'ORCL', 'PFE', 'HON', 'PEP', 'GOOG', 'AZN', 'WMT', 'CVS', 'UPS', 'T', 'WFC', 'BAC', 'RY', 'FDX', 'UNP', 'NKE', 'JNJ', 'MA', 'F', 'IBM', 'PM', 'MCD', 'MDT', 'CMCSA', 'PG', 'AMD', 'UNH', 'COST', 'ISRG', 'LOW', 'JPM', 'XOM']\n",
      "--------------------------------------------------------------------------------------------------------------------------\n",
      "\n",
      "Group 3 has ticker:\n",
      "['JNJ', 'TMUS', 'MS', 'LOW', 'T', 'ISRG', 'LLY', 'PG', 'BA', 'CVS', 'AMD', 'COST', 'TGT', 'UNP', 'AZN', 'DUK', 'MET', 'TXN', 'PEP', 'SNY', 'MSFT', 'CSCO', 'HD', 'LMT', 'MCD', 'BKNG', 'MA', 'FDX', 'SBUX', 'BLK', 'NFLX', 'PFE', 'ORCL', 'SE', 'FB', 'AMZN', 'EL', 'AAPL', 'GM', 'TMO']\n",
      "--------------------------------------------------------------------------------------------------------------------------\n",
      "\n",
      "Group 4 has ticker:\n",
      "['EBAY', 'AMT', 'EL', 'GS', 'SAP', 'JNJ', 'KO', 'TSM', 'AZN', 'INTU', 'MS', 'T', 'TMUS', 'NVO', 'GM', 'ORCL', 'AMGN', 'WMT', 'QCOM', 'LOW', 'CMCSA', 'ISRG', 'PFE', 'CVX', 'XOM', 'CSCO', 'ABT', 'MRK', 'HON', 'CRM', 'TSLA', 'BLK', 'AAPL', 'NKE', 'WFC', 'TXN', 'VZ', 'COST', 'UNP', 'TGT']\n",
      "--------------------------------------------------------------------------------------------------------------------------\n",
      "\n",
      "Group 5 has ticker:\n",
      "['NVS', 'TXN', 'FB', 'GS', 'MA', 'JNJ', 'TMO', 'NVO', 'ABT', 'TSM', 'PG', 'NFLX', 'ABBV', 'EL', 'HON', 'DIS', 'BX', 'BA', 'MET', 'BMY', 'RY', 'VZ', 'AZN', 'BLK', 'JPM', 'TSLA', 'SNY', 'FDX', 'QCOM', 'WFC', 'LMT', 'CVX', 'UNH', 'DUK', 'IBM', 'LOW', 'MS', 'AAPL', 'MDT', 'BAC']\n",
      "--------------------------------------------------------------------------------------------------------------------------\n",
      "\n",
      "Group 6 has ticker:\n",
      "['DIS', 'TGT', 'UNP', 'XOM', 'MA', 'CRM', 'TD', 'SE', 'C', 'BKNG', 'LLY', 'AZN', 'CMCSA', 'ABBV', 'ORCL', 'CVS', 'NKE', 'ABT', 'AXP', 'BA', 'PEP', 'TXN', 'AMD', 'PM', 'AAPL', 'BX', 'MCD', 'JPM', 'UPS', 'IBM', 'LOW', 'NVO', 'HON', 'CHTR', 'CVX', 'SNY', 'SAP', 'MSFT', 'MCO', 'INTC']\n",
      "--------------------------------------------------------------------------------------------------------------------------\n",
      "\n",
      "Group 7 has ticker:\n",
      "['GOOG', 'BAC', 'VZ', 'V', 'CVX', 'NVDA', 'KO', 'DHR', 'TMUS', 'AMT', 'WMT', 'BA', 'TGT', 'CMCSA', 'IBM', 'BKNG', 'WFC', 'MET', 'QCOM', 'SE', 'MCD', 'RY', 'AMZN', 'FDX', 'SAP', 'PEP', 'UNP', 'NVS', 'AMD', 'LLY', 'TSM', 'NFLX', 'NVO', 'JPM', 'UPS', 'ASML', 'PG', 'LOW', 'ABT', 'ADBE']\n",
      "--------------------------------------------------------------------------------------------------------------------------\n",
      "\n",
      "Group 8 has ticker:\n",
      "['BX', 'ACN', 'DHR', 'NFLX', 'MRK', 'DUK', 'TGT', 'BA', 'VZ', 'MS', 'ABT', 'INTU', 'LMT', 'CSCO', 'CHTR', 'KO', 'ISRG', 'UNP', 'GS', 'GOOG', 'PFE', 'XOM', 'T', 'TD', 'COST', 'JPM', 'ASML', 'QCOM', 'WFC', 'GM', 'SBUX', 'PEP', 'TSM', 'BMY', 'MET', 'TMUS', 'ADBE', 'EBAY', 'AMD', 'UNH']\n",
      "--------------------------------------------------------------------------------------------------------------------------\n",
      "\n",
      "Group 9 has ticker:\n",
      "['AZN', 'WMT', 'BX', 'TGT', 'C', 'MET', 'BKNG', 'AAPL', 'TSM', 'ADBE', 'BMY', 'MCO', 'T', 'XOM', 'TD', 'COST', 'LMT', 'INTC', 'PEP', 'VZ', 'SBUX', 'MSFT', 'BLK', 'UNH', 'CSCO', 'ORCL', 'TMUS', 'MS', 'NFLX', 'AMD', 'ABT', 'CVS', 'DIS', 'CHTR', 'AMT', 'TSLA', 'LOW', 'IBM', 'GM', 'SAP']\n",
      "--------------------------------------------------------------------------------------------------------------------------\n",
      "\n",
      "Group 10 has ticker:\n",
      "['BLK', 'MDT', 'AZN', 'BKNG', 'MA', 'CHTR', 'JNJ', 'CRM', 'TMO', 'UNH', 'NKE', 'NVO', 'AMGN', 'ORCL', 'UPS', 'IBM', 'MCD', 'LMT', 'EL', 'PEP', 'GS', 'LOW', 'XOM', 'INTC', 'CMCSA', 'JPM', 'NVS', 'COST', 'KO', 'WFC', 'GM', 'UNP', 'TMUS', 'TSLA', 'ASML', 'ADBE', 'MRK', 'DUK', 'MET', 'ABBV']\n",
      "--------------------------------------------------------------------------------------------------------------------------\n",
      "\n"
     ]
    }
   ],
   "source": [
    "for i in range(1, 11):\n",
    "    print('Group', i, 'has ticker:')\n",
    "\n",
    "    # Get 100 random tickers from the list\n",
    "    tickers_sample = random.sample(tickers, 40)\n",
    "    print(tickers_sample)\n",
    "\n",
    "    print('--------------------------------------------------------------------------------------------------------------------------')\n",
    "    print()"
   ]
  },
  {
   "cell_type": "code",
   "execution_count": null,
   "metadata": {},
   "outputs": [],
   "source": []
  }
 ],
 "metadata": {
  "kernelspec": {
   "display_name": "Python 3 (ipykernel)",
   "language": "python",
   "name": "python3"
  },
  "language_info": {
   "codemirror_mode": {
    "name": "ipython",
    "version": 3
   },
   "file_extension": ".py",
   "mimetype": "text/x-python",
   "name": "python",
   "nbconvert_exporter": "python",
   "pygments_lexer": "ipython3",
   "version": "3.8.6"
  },
  "vscode": {
   "interpreter": {
    "hash": "aee8b7b246df8f9039afb4144a1f6fd8d2ca17a180786b69acc140d282b71a49"
   }
  }
 },
 "nbformat": 4,
 "nbformat_minor": 4
}
