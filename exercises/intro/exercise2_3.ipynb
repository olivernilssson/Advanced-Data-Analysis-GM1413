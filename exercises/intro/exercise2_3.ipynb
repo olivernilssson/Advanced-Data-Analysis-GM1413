{
 "cells": [
  {
   "cell_type": "markdown",
   "metadata": {},
   "source": [
    "# Exercise 2.3\n",
    "### Stock Price Analysis with List Comprehension and Error Handling\n",
    "Not allowed to use Pandas or NumPy here."
   ]
  },
  {
   "cell_type": "code",
   "execution_count": 1,
   "metadata": {},
   "outputs": [
    {
     "name": "stdout",
     "output_type": "stream",
     "text": [
      "Csv version: 1.0\n"
     ]
    }
   ],
   "source": [
    "import csv\n",
    "\n",
    "print(f\"Csv version: {csv.__version__}\")"
   ]
  },
  {
   "cell_type": "code",
   "execution_count": 13,
   "metadata": {},
   "outputs": [],
   "source": [
    "# Initialize a empty list to store the data\n",
    "stock_data = []\n",
    "\n",
    "# Read the CSV file\n",
    "with open(\"../data/exercises 2.1 to 2.3.csv\", mode=\"r\") as file:\n",
    "    csv_reader = csv.reader(file)\n",
    "    stock_data.append(next(csv_reader))\n",
    "    for row in csv_reader:\n",
    "        date = row[0]\n",
    "        close_price = float(row[1])\n",
    "        stock_data.append((date, close_price))"
   ]
  },
  {
   "cell_type": "code",
   "execution_count": 14,
   "metadata": {},
   "outputs": [
    {
     "name": "stdout",
     "output_type": "stream",
     "text": [
      "Period chosen: 3 days\n"
     ]
    }
   ],
   "source": [
    "# User input for period of days with error handling\n",
    "while True:\n",
    "    try:\n",
    "        days = int(input(\"Enter the number of days: \"))\n",
    "        if days < 1:\n",
    "            raise ValueError\n",
    "        break\n",
    "    except ValueError:\n",
    "        print(\"Invalid input. Please enter a positive integer.\")\n",
    "\n",
    "print(f\"Period chosen: {days} days\")"
   ]
  },
  {
   "cell_type": "code",
   "execution_count": 15,
   "metadata": {},
   "outputs": [
    {
     "name": "stdout",
     "output_type": "stream",
     "text": [
      "('2024-09-27', 149.67, 151.14666666666665)\n",
      "('2024-09-28', 152.1, 151.73999999999998)\n",
      "('2024-09-29', 154.8, 152.19)\n",
      "('2024-09-30', 156.9, 154.6)\n",
      "('2024-10-01', 158.12, 156.60666666666668)\n"
     ]
    }
   ],
   "source": [
    "# Calculate the Simple Moving Average (SMA) for the given period using list comprehension\n",
    "sma = [\n",
    "    (stock_data[i][0], stock_data[i][1], sum(stock_data[j][1] for j in range(i, i - days, -1)) / days)\n",
    "    for i in range(days, len(stock_data))\n",
    "]\n",
    "\n",
    "# Print the first 5 rows of the SMA\n",
    "for row in sma[:5]:\n",
    "    print(row)"
   ]
  },
  {
   "cell_type": "code",
   "execution_count": 26,
   "metadata": {},
   "outputs": [
    {
     "name": "stdout",
     "output_type": "stream",
     "text": [
      "Result\n",
      "Date\t\tClose\tSMA\n",
      "2024-09-27\t149.67\t151.14666666666665\n",
      "2024-09-28\t152.1\t151.73999999999998\n",
      "2024-09-29\t154.8\t152.19\n",
      "2024-09-30\t156.9\t154.6\n",
      "2024-10-01\t158.12\t156.60666666666668\n",
      "2024-10-02\t157.89\t157.63666666666666\n",
      "2024-10-03\t160.0\t158.67\n",
      "2024-10-04\t161.45\t159.78\n",
      "2024-10-05\t162.3\t161.25\n",
      "2024-10-06\t159.67\t161.14\n",
      "2024-10-07\t158.9\t160.29\n",
      "2024-10-08\t160.75\t159.77333333333334\n",
      "2024-10-09\t162.8\t160.8166666666667\n",
      "2024-10-10\t164.2\t162.58333333333334\n",
      "2024-10-11\t165.45\t164.15\n",
      "2024-10-12\t164.5\t164.71666666666667\n",
      "2024-10-13\t165.0\t164.98333333333332\n",
      "2024-10-14\t167.1\t165.53333333333333\n",
      "\n",
      "Dates where the closing price is greater than the SMA:\n",
      "2024-09-28\n",
      "2024-09-29\n",
      "2024-09-30\n",
      "2024-10-01\n",
      "2024-10-02\n",
      "2024-10-03\n",
      "2024-10-04\n",
      "2024-10-05\n",
      "2024-10-08\n",
      "2024-10-09\n",
      "2024-10-10\n",
      "2024-10-11\n",
      "2024-10-13\n",
      "2024-10-14\n"
     ]
    }
   ],
   "source": [
    "# Identify the days with closing price greater than the SMA\n",
    "days_above_sma = [(row[0], row[1], row[2]) for row in sma if row[1] > row[2]]\n",
    "\n",
    "# Print the calculated SMA\n",
    "print(\"Result\\nDate\\t\\tClose\\tSMA\")\n",
    "for row in sma:\n",
    "    print(f\"{row[0]}\\t{row[1]}\\t{row[2]}\")\n",
    "\n",
    "# Print the dates where the closing price is greater than the SMA\n",
    "print(\"\\nDates where the closing price is greater than the SMA:\")\n",
    "for row in days_above_sma:\n",
    "    print(row[0])"
   ]
  }
 ],
 "metadata": {
  "kernelspec": {
   "display_name": "islp",
   "language": "python",
   "name": "python3"
  },
  "language_info": {
   "codemirror_mode": {
    "name": "ipython",
    "version": 3
   },
   "file_extension": ".py",
   "mimetype": "text/x-python",
   "name": "python",
   "nbconvert_exporter": "python",
   "pygments_lexer": "ipython3",
   "version": "3.12.3"
  }
 },
 "nbformat": 4,
 "nbformat_minor": 2
}
