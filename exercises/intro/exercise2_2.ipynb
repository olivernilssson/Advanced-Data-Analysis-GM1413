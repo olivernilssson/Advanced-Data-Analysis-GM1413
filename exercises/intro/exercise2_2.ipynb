{
 "cells": [
  {
   "cell_type": "markdown",
   "metadata": {},
   "source": [
    "# Exercise 2.2\n",
    "### Stock Price Analysis with Dictionary Storage and Exponential Moving Average (EMA) Calculation\n",
    "Not allowed to use Pandas or NumPy here."
   ]
  },
  {
   "cell_type": "code",
   "execution_count": 1,
   "metadata": {},
   "outputs": [
    {
     "name": "stdout",
     "output_type": "stream",
     "text": [
      "Csv version: 1.0\n"
     ]
    }
   ],
   "source": [
    "import csv\n",
    "\n",
    "print(f\"Csv version: {csv.__version__}\")"
   ]
  },
  {
   "cell_type": "code",
   "execution_count": 2,
   "metadata": {},
   "outputs": [
    {
     "name": "stdout",
     "output_type": "stream",
     "text": [
      "{'2024-09-25': 150.32, '2024-09-26': 153.45, '2024-09-27': 149.67, '2024-09-28': 152.1, '2024-09-29': 154.8, '2024-09-30': 156.9, '2024-10-01': 158.12, '2024-10-02': 157.89, '2024-10-03': 160.0, '2024-10-04': 161.45, '2024-10-05': 162.3, '2024-10-06': 159.67, '2024-10-07': 158.9, '2024-10-08': 160.75, '2024-10-09': 162.8, '2024-10-10': 164.2, '2024-10-11': 165.45, '2024-10-12': 164.5, '2024-10-13': 165.0, '2024-10-14': 167.1}\n"
     ]
    }
   ],
   "source": [
    "# Initialize an empty dictionary to store the stock data\n",
    "# Needs to use dictionary due to the exercise instructions\n",
    "stock_dict = {}\n",
    "\n",
    "# Read the CSV file using the csv module\n",
    "with open('../data/exercises 2.1 to 2.3.csv', mode='r') as file:\n",
    "    csv_reader = csv.DictReader(file)\n",
    "    \n",
    "    # Iterate over the rows in the CSV file and store the data in the dictionary\n",
    "    for row in csv_reader:\n",
    "        date = row['Date']\n",
    "        close_price = float(row['Close'])\n",
    "        stock_dict[date] = close_price\n",
    "\n",
    "print(stock_dict)"
   ]
  },
  {
   "cell_type": "code",
   "execution_count": 3,
   "metadata": {},
   "outputs": [],
   "source": [
    "# Period for the Exponential Moving Average\n",
    "days = int(input(\"Enter the number of days: \"))\n",
    "\n",
    "# Smoothing factor (alpha)\n",
    "alpha = 2 / (days + 1)\n",
    "\n",
    "# Convert the dictionary to a list of tuples for easier iteration (date, close_price)\n",
    "stock_items = list(stock_dict.items())\n",
    "\n",
    "# Calculate the Simple Moving Average (SMA) for the first days\n",
    "sma = sum([price for date, price in stock_items[:days]]) / days\n",
    "date_sma = stock_items[days - 1][0]\n",
    "stock_dict[date_sma] = (stock_items[days - 1][1], sma)\n",
    "previous_ema = sma\n",
    "\n",
    "# Calculate the Exponential Moving Average (EMA) for the remaining dates\n",
    "for i in range(days, len(stock_items)):\n",
    "    date = stock_items[i][0]\n",
    "    close_price = stock_items[i][1]\n",
    "    ema = close_price * alpha + previous_ema * (1 - alpha)\n",
    "    previous_ema = ema\n",
    "    stock_dict[date] = (close_price, ema)"
   ]
  },
  {
   "cell_type": "code",
   "execution_count": 5,
   "metadata": {},
   "outputs": [
    {
     "name": "stdout",
     "output_type": "stream",
     "text": [
      "Dictionary (Date: (Close Price, EMA))\n",
      "2024-09-25: 150.32\n",
      "2024-09-26: 153.45\n",
      "2024-09-27: (149.67, 151.14666666666665)\n",
      "2024-09-28: (152.1, 151.62333333333333)\n",
      "2024-09-29: (154.8, 153.21166666666667)\n",
      "2024-09-30: (156.9, 155.05583333333334)\n",
      "2024-10-01: (158.12, 156.58791666666667)\n",
      "2024-10-02: (157.89, 157.23895833333333)\n",
      "2024-10-03: (160.0, 158.61947916666668)\n",
      "2024-10-04: (161.45, 160.03473958333333)\n",
      "2024-10-05: (162.3, 161.16736979166666)\n",
      "2024-10-06: (159.67, 160.41868489583334)\n",
      "2024-10-07: (158.9, 159.65934244791669)\n",
      "2024-10-08: (160.75, 160.20467122395834)\n",
      "2024-10-09: (162.8, 161.50233561197916)\n",
      "2024-10-10: (164.2, 162.85116780598958)\n",
      "2024-10-11: (165.45, 164.15058390299478)\n",
      "2024-10-12: (164.5, 164.32529195149738)\n",
      "2024-10-13: (165.0, 164.6626459757487)\n",
      "2024-10-14: (167.1, 165.88132298787434)\n",
      "\n",
      "Dates where the Close Price is higher than the EMA:\n",
      "2024-09-28\n",
      "2024-09-29\n",
      "2024-09-30\n",
      "2024-10-01\n",
      "2024-10-02\n",
      "2024-10-03\n",
      "2024-10-04\n",
      "2024-10-05\n",
      "2024-10-08\n",
      "2024-10-09\n",
      "2024-10-10\n",
      "2024-10-11\n",
      "2024-10-12\n",
      "2024-10-13\n",
      "2024-10-14\n"
     ]
    }
   ],
   "source": [
    "# Compare the Close Price with the Exponential Moving Average\n",
    "higher_price_dates = []\n",
    "for date, value in stock_dict.items():\n",
    "    if isinstance(value, tuple):\n",
    "        close_price, ema = value\n",
    "        if ema is not None and close_price > ema:\n",
    "            higher_price_dates.append(date)\n",
    "\n",
    "print(\"Dictionary (Date: (Close Price, EMA))\")\n",
    "for date, value in stock_dict.items():\n",
    "    print(f\"{date}: {value}\")\n",
    "\n",
    "print(f\"\\nDates where the Close Price is higher than the EMA:\")\n",
    "for date in higher_price_dates:\n",
    "    print(date)"
   ]
  }
 ],
 "metadata": {
  "kernelspec": {
   "display_name": "islp",
   "language": "python",
   "name": "python3"
  },
  "language_info": {
   "codemirror_mode": {
    "name": "ipython",
    "version": 3
   },
   "file_extension": ".py",
   "mimetype": "text/x-python",
   "name": "python",
   "nbconvert_exporter": "python",
   "pygments_lexer": "ipython3",
   "version": "3.12.3"
  }
 },
 "nbformat": 4,
 "nbformat_minor": 2
}
