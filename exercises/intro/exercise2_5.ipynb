{
 "cells": [
  {
   "cell_type": "markdown",
   "metadata": {},
   "source": [
    "# Exercise 2.5\n",
    "### Stock Price Volatility and Date Ranges\n",
    "Not allowed to use Pandas or NumPy here."
   ]
  },
  {
   "cell_type": "code",
   "execution_count": 1,
   "metadata": {},
   "outputs": [
    {
     "name": "stdout",
     "output_type": "stream",
     "text": [
      "Csv version: 1.0\n",
      "Testing datetime.now: 2024-10-13 19:12:13.961300\n"
     ]
    }
   ],
   "source": [
    "import csv\n",
    "from datetime import datetime\n",
    "\n",
    "print(f\"Csv version: {csv.__version__}\")\n",
    "print(f\"Testing datetime.now: {datetime.now()}\")"
   ]
  },
  {
   "cell_type": "code",
   "execution_count": 2,
   "metadata": {},
   "outputs": [
    {
     "name": "stdout",
     "output_type": "stream",
     "text": [
      "['Date', 'Close']\n",
      "(datetime.datetime(2024, 1, 1, 0, 0), 102.78853596915768)\n",
      "(datetime.datetime(2024, 1, 2, 0, 0), 90.50021510445333)\n",
      "(datetime.datetime(2024, 1, 3, 0, 0), 95.50058636738238)\n",
      "(datetime.datetime(2024, 1, 4, 0, 0), 94.46421476297645)\n"
     ]
    }
   ],
   "source": [
    "# Initialize empty list to store data\n",
    "stock_data = []\n",
    "\n",
    "# Read the csv file\n",
    "with open(\"../data/exercise 2.5.csv\", mode=\"r\") as file:\n",
    "    csv_reader = csv.reader(file)\n",
    "    # Append the header to the list\n",
    "    stock_data.append(next(csv_reader))\n",
    "    # Append the rest of the data with correct types\n",
    "    for row in csv_reader:\n",
    "        date = datetime.strptime(row[0], \"%Y-%m-%d\")\n",
    "        close = float(row[1])\n",
    "        stock_data.append((date, close))\n",
    "\n",
    "# Print the first 5 rows\n",
    "for i in range(5):\n",
    "    \n",
    "    print(stock_data[i])"
   ]
  },
  {
   "cell_type": "code",
   "execution_count": 3,
   "metadata": {},
   "outputs": [
    {
     "name": "stdout",
     "output_type": "stream",
     "text": [
      "Start date: 2024-01-01 00:00:00\n",
      "End date: 2024-03-31 00:00:00\n"
     ]
    }
   ],
   "source": [
    "# User input for start date\n",
    "while True:\n",
    "    try:\n",
    "        start_date = datetime.strptime(input(\"Enter the start date (YYYY-MM-DD): \"), \"%Y-%m-%d\")\n",
    "        break\n",
    "    except ValueError:\n",
    "        print(\"Invalid date format. Please enter the start date in the format YYYY-MM-DD\")\n",
    "\n",
    "# User input for end date\n",
    "while True:\n",
    "    try:\n",
    "        end_date = datetime.strptime(input(\"Enter the end date (YYYY-MM-DD): \"), \"%Y-%m-%d\")\n",
    "        break\n",
    "    except ValueError:\n",
    "        print(\"Invalid date format. Please enter the end date in the format YYYY-MM-DD\")\n",
    "\n",
    "print(f\"Start date: {start_date}\")\n",
    "print(f\"End date: {end_date}\")"
   ]
  },
  {
   "cell_type": "code",
   "execution_count": 14,
   "metadata": {},
   "outputs": [
    {
     "name": "stdout",
     "output_type": "stream",
     "text": [
      "Mean daily return: 0.17163%\n",
      "Variance of daily return: 0.59072%\n",
      "Standard deviation of daily return: 7.68581%\n"
     ]
    }
   ],
   "source": [
    "# Filter the data based on the user input\n",
    "filtered_data = [row for row in stock_data[1:] if start_date <= row[0] <= end_date]\n",
    "\n",
    "# Calculate the daily return\n",
    "daily_return = [(filtered_data[i][0], (filtered_data[i][1] - filtered_data[i-1][1]) / filtered_data[i-1][1]) for i in range(1, len(filtered_data))]\n",
    "\n",
    "return_values = [row[1] for row in daily_return]\n",
    "\n",
    "# Calculate the standard deviation of the daily returns (volatility)\n",
    "def portfolio_std_dev(data):\n",
    "    mean_daily_return = sum([row for row in data]) / len(data)\n",
    "    variance_daily_return = sum((row - mean_daily_return) ** 2 for row in data) / len(data)\n",
    "    std_dev = variance_daily_return ** 0.5\n",
    "    return mean_daily_return, variance_daily_return, std_dev\n",
    "\n",
    "mean_daily_return, variance_daily_return, stddev_daily_return = portfolio_std_dev(return_values)\n",
    "\n",
    "# Print the results\n",
    "print(f\"Mean daily return: {mean_daily_return:.5%}\")\n",
    "print(f\"Variance of daily return: {variance_daily_return:.5%}\")\n",
    "print(f\"Standard deviation of daily return: {stddev_daily_return:.5%}\")"
   ]
  },
  {
   "cell_type": "code",
   "execution_count": 25,
   "metadata": {},
   "outputs": [
    {
     "name": "stdout",
     "output_type": "stream",
     "text": [
      "The most volatile week is week 3 with a standard deviation of 10.17486%\n"
     ]
    }
   ],
   "source": [
    "# Identify most volatile week\n",
    "weekly_data = {}\n",
    "for row in daily_return:\n",
    "    week_number = row[0].isocalendar()[1]\n",
    "    if week_number not in weekly_data:\n",
    "        weekly_data[week_number] = []\n",
    "    weekly_data[week_number].append(row[1])\n",
    "\n",
    "weekly_std_dev = {week: portfolio_std_dev(weekly_data[week])[2] for week in weekly_data}\n",
    "\n",
    "most_volatile_week = max(weekly_std_dev, key=weekly_std_dev.get)\n",
    "\n",
    "print(f\"The most volatile week is week {most_volatile_week} with a standard deviation of {weekly_std_dev[most_volatile_week]:.5%}\")"
   ]
  }
 ],
 "metadata": {
  "kernelspec": {
   "display_name": "islp",
   "language": "python",
   "name": "python3"
  },
  "language_info": {
   "codemirror_mode": {
    "name": "ipython",
    "version": 3
   },
   "file_extension": ".py",
   "mimetype": "text/x-python",
   "name": "python",
   "nbconvert_exporter": "python",
   "pygments_lexer": "ipython3",
   "version": "3.12.3"
  }
 },
 "nbformat": 4,
 "nbformat_minor": 2
}
