{
 "cells": [
  {
   "cell_type": "markdown",
   "metadata": {},
   "source": [
    "# Exercise 2.4\n",
    "### Date Range Filtering and Portfolio Performance\n",
    "Not allowed to use Pandas or NumPy here."
   ]
  },
  {
   "cell_type": "code",
   "execution_count": 1,
   "metadata": {},
   "outputs": [
    {
     "name": "stdout",
     "output_type": "stream",
     "text": [
      "Csv version: 1.0\n",
      "Testing datetime.now: 2024-10-09 19:48:19.223893\n"
     ]
    }
   ],
   "source": [
    "import csv\n",
    "from datetime import datetime\n",
    "\n",
    "print(f\"Csv version: {csv.__version__}\")\n",
    "print(f\"Testing datetime.now: {datetime.now()}\")"
   ]
  },
  {
   "cell_type": "code",
   "execution_count": 2,
   "metadata": {},
   "outputs": [],
   "source": [
    "# Initialize a empty list to store the portfolio return data\n",
    "portfolio_return = []\n",
    "\n",
    "# Read the csv file\n",
    "with open(\"../data/exercise 2.4.csv\", mode=\"r\") as file:\n",
    "    csv_reader = csv.reader(file)\n",
    "    portfolio_return.append(next(csv_reader))\n",
    "    for row in csv_reader:\n",
    "        date = datetime.strptime(row[0], \"%Y-%m-%d\")\n",
    "        daily_return = float(row[1])\n",
    "        portfolio_return.append((date, daily_return))"
   ]
  },
  {
   "cell_type": "code",
   "execution_count": 3,
   "metadata": {},
   "outputs": [],
   "source": [
    "# User input for start date\n",
    "while True:\n",
    "    try:\n",
    "        start_date = datetime.strptime(input(\"Enter the start date (YYYY-MM-DD): \"), \"%Y-%m-%d\")\n",
    "        break\n",
    "    except ValueError:\n",
    "        print(\"Invalid date format. Please enter the start date in the format YYYY-MM-DD\")\n",
    "\n",
    "# User input for end date\n",
    "while True:\n",
    "    try:\n",
    "        end_date = datetime.strptime(input(\"Enter the end date (YYYY-MM-DD): \"), \"%Y-%m-%d\")\n",
    "        break\n",
    "    except ValueError:\n",
    "        print(\"Invalid date format. Please enter the end date in the format YYYY-MM-DD\")"
   ]
  },
  {
   "cell_type": "code",
   "execution_count": 4,
   "metadata": {},
   "outputs": [
    {
     "name": "stdout",
     "output_type": "stream",
     "text": [
      "The cumulative return from 2024-01-01 to 2024-01-31 is -7.84%\n"
     ]
    }
   ],
   "source": [
    "# Filter the data based on the user input\n",
    "filtered_data = [data for data in portfolio_return[1:] if start_date <= data[0] <= end_date]\n",
    "\n",
    "# Calculate the cumulative portfolio return\n",
    "cumulative_return = 1\n",
    "for r in filtered_data:\n",
    "    cumulative_return *= 1 + r[1]\n",
    "cumulative_return -= 1\n",
    "\n",
    "print(f\"The cumulative return from {start_date.strftime('%Y-%m-%d')} to {end_date.strftime('%Y-%m-%d')} is {cumulative_return:.2%}\")"
   ]
  }
 ],
 "metadata": {
  "kernelspec": {
   "display_name": "islp",
   "language": "python",
   "name": "python3"
  },
  "language_info": {
   "codemirror_mode": {
    "name": "ipython",
    "version": 3
   },
   "file_extension": ".py",
   "mimetype": "text/x-python",
   "name": "python",
   "nbconvert_exporter": "python",
   "pygments_lexer": "ipython3",
   "version": "3.12.3"
  }
 },
 "nbformat": 4,
 "nbformat_minor": 2
}
