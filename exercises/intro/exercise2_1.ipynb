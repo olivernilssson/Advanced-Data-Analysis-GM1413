{
 "cells": [
  {
   "cell_type": "markdown",
   "metadata": {},
   "source": [
    "# Exercise 2.1\n",
    "### Stock Price Analysis and Moving Average Calculation\n",
    "Not allowed to use Pandas or NumPy here."
   ]
  },
  {
   "cell_type": "code",
   "execution_count": 1,
   "metadata": {},
   "outputs": [
    {
     "name": "stdout",
     "output_type": "stream",
     "text": [
      "Csv version: 1.0\n"
     ]
    }
   ],
   "source": [
    "import csv\n",
    "\n",
    "print(f\"Csv version: {csv.__version__}\")"
   ]
  },
  {
   "cell_type": "code",
   "execution_count": 2,
   "metadata": {},
   "outputs": [
    {
     "name": "stdout",
     "output_type": "stream",
     "text": [
      "{'Date': '2024-09-25', 'Close': 150.32}\n",
      "{'Date': '2024-09-26', 'Close': 153.45}\n",
      "{'Date': '2024-09-27', 'Close': 149.67}\n",
      "{'Date': '2024-09-28', 'Close': 152.1}\n",
      "{'Date': '2024-09-29', 'Close': 154.8}\n"
     ]
    }
   ],
   "source": [
    "# Initialize an empty list to store the stock data\n",
    "stock_data = []\n",
    "\n",
    "# Read the CSV file using the csv module\n",
    "with open(\"../data/exercises 2.1 to 2.3.csv\", mode='r') as file:\n",
    "    reader = csv.DictReader(file)\n",
    "    for row in reader:\n",
    "        try:\n",
    "            # Convert the 'Close' price to float for calculations\n",
    "            row['Close'] = float(row['Close'])\n",
    "        except ValueError as e:\n",
    "            print(f\"Error converting Close price to float: {row['Close']}. Error: {e}\")\n",
    "            row['Close'] = None\n",
    "        stock_data.append(row)\n",
    "\n",
    "# Display the first five rows\n",
    "for row in stock_data[:5]:\n",
    "    print(row)"
   ]
  },
  {
   "cell_type": "code",
   "execution_count": 3,
   "metadata": {},
   "outputs": [],
   "source": [
    "# Period for the Simple Moving Average\n",
    "days = int(input(\"Enter the number of days: \"))\n",
    "\n",
    "# Calculate the Simple Moving Average (SMA)\n",
    "sma_values = []\n",
    "for i in range(len(stock_data)):\n",
    "    if i >= days - 1:  # Ensure there are enough data points for SMA\n",
    "        sma = round(sum(stock_data[j]['Close'] for j in range(i - days + 1, i + 1)) / days, 2)\n",
    "        sma_values.append(sma)\n",
    "    else:\n",
    "        sma_values.append(None)\n",
    "\n",
    "# Add SMA values to the stock data\n",
    "for i in range(len(stock_data)):\n",
    "    stock_data[i]['SMA'] = sma_values[i]"
   ]
  },
  {
   "cell_type": "code",
   "execution_count": 4,
   "metadata": {},
   "outputs": [
    {
     "name": "stdout",
     "output_type": "stream",
     "text": [
      "Calculated SMAs:\n",
      "Date: 2024-09-25, SMA: None\n",
      "Date: 2024-09-26, SMA: None\n",
      "Date: 2024-09-27, SMA: 151.15\n",
      "Date: 2024-09-28, SMA: 151.74\n",
      "Date: 2024-09-29, SMA: 152.19\n",
      "Date: 2024-09-30, SMA: 154.6\n",
      "Date: 2024-10-01, SMA: 156.61\n",
      "Date: 2024-10-02, SMA: 157.64\n",
      "Date: 2024-10-03, SMA: 158.67\n",
      "Date: 2024-10-04, SMA: 159.78\n",
      "Date: 2024-10-05, SMA: 161.25\n",
      "Date: 2024-10-06, SMA: 161.14\n",
      "Date: 2024-10-07, SMA: 160.29\n",
      "Date: 2024-10-08, SMA: 159.77\n",
      "Date: 2024-10-09, SMA: 160.82\n",
      "Date: 2024-10-10, SMA: 162.58\n",
      "Date: 2024-10-11, SMA: 164.15\n",
      "Date: 2024-10-12, SMA: 164.72\n",
      "Date: 2024-10-13, SMA: 164.98\n",
      "Date: 2024-10-14, SMA: 165.53\n",
      "\n",
      "Dates where stock price was higher than SMA:\n",
      "2024-09-28\n",
      "2024-09-29\n",
      "2024-09-30\n",
      "2024-10-01\n",
      "2024-10-02\n",
      "2024-10-03\n",
      "2024-10-04\n",
      "2024-10-05\n",
      "2024-10-08\n",
      "2024-10-09\n",
      "2024-10-10\n",
      "2024-10-11\n",
      "2024-10-13\n",
      "2024-10-14\n"
     ]
    }
   ],
   "source": [
    "# Store the days where SMA < Close and print results\n",
    "higher_price_dates = []\n",
    "for row in stock_data:\n",
    "    # Check if SMA is not None and Close > SMA\n",
    "    if row['SMA'] is not None and row['Close'] > row['SMA']:\n",
    "        higher_price_dates.append(row['Date'])\n",
    "\n",
    "# Print the list of SMAs calculated for the stock\n",
    "print(\"Calculated SMAs:\")\n",
    "for i in range(len(stock_data)):\n",
    "    print(f\"Date: {stock_data[i]['Date']}, SMA: {stock_data[i]['SMA']}\")\n",
    "\n",
    "# Print the dates on which the stock price was higher than the corresponding SMA\n",
    "print(\"\\nDates where stock price was higher than SMA:\")\n",
    "for date in higher_price_dates:\n",
    "    print(date)"
   ]
  }
 ],
 "metadata": {
  "kernelspec": {
   "display_name": "islp",
   "language": "python",
   "name": "python3"
  },
  "language_info": {
   "codemirror_mode": {
    "name": "ipython",
    "version": 3
   },
   "file_extension": ".py",
   "mimetype": "text/x-python",
   "name": "python",
   "nbconvert_exporter": "python",
   "pygments_lexer": "ipython3",
   "version": "3.12.3"
  }
 },
 "nbformat": 4,
 "nbformat_minor": 2
}
