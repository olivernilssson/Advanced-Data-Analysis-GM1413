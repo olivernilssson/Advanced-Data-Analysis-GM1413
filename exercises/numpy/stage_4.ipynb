{
 "cells": [
  {
   "cell_type": "markdown",
   "metadata": {},
   "source": [
    "# Exercise: Analysing stock data using NumPy"
   ]
  },
  {
   "cell_type": "markdown",
   "metadata": {},
   "source": [
    "### Stage 4: Correlation Between Stocks Using Transpose\n",
    "Objective: Compute the correlation matrix between the three stocks using NumPy and handle the stock data using transpose to align dimensions."
   ]
  },
  {
   "cell_type": "code",
   "execution_count": 1,
   "metadata": {},
   "outputs": [
    {
     "name": "stdout",
     "output_type": "stream",
     "text": [
      "NumPy version: 1.26.4\n",
      "Matplotlib version: 3.9.0\n",
      "Date: 2024-10-14 23:50:14.794961\n"
     ]
    }
   ],
   "source": [
    "import numpy as np\n",
    "import matplotlib.pyplot as plt\n",
    "import datetime\n",
    "\n",
    "print(f\"NumPy version: {np.__version__}\")\n",
    "print(f\"Matplotlib version: {plt.matplotlib.__version__}\")\n",
    "print(f\"Date: {datetime.datetime.now()}\")"
   ]
  },
  {
   "cell_type": "code",
   "execution_count": 2,
   "metadata": {},
   "outputs": [],
   "source": [
    "# Load Data from CSV\n",
    "prices = np.genfromtxt(\"../data/numpy1.csv\", delimiter=\",\", dtype=\"float\", skip_header=1, usecols=(1, 2, 3))\n",
    "\n",
    "# Define stock names\n",
    "stock_names = [\"Stock 1\", \"Stock 2\", \"Stock 3\"]"
   ]
  },
  {
   "cell_type": "code",
   "execution_count": 9,
   "metadata": {},
   "outputs": [
    {
     "name": "stdout",
     "output_type": "stream",
     "text": [
      "Correlation Matrix between Stocks:\n",
      "[[ 1.         -0.3541621   0.08527942]\n",
      " [-0.3541621   1.         -0.09502269]\n",
      " [ 0.08527942 -0.09502269  1.        ]]\n",
      "\n",
      "Correlation Matrix between Stocks with Stock Names:\n",
      "             Stock 1   Stock 2   Stock 3\n",
      "   Stock 1      1.00     -0.35      0.09\n",
      "   Stock 2     -0.35      1.00     -0.10\n",
      "   Stock 3      0.09     -0.10      1.00\n"
     ]
    }
   ],
   "source": [
    "# Transpose the prices array\n",
    "prices_transposed = prices.T\n",
    "\n",
    "# Compute the corelation matrix\n",
    "correlation_matrix = np.corrcoef(prices_transposed)\n",
    "\n",
    "# Display the correlation matrix\n",
    "print(\"Correlation Matrix between Stocks:\")\n",
    "print(correlation_matrix)\n",
    "\n",
    "# Display the correlation matrix with stock names\n",
    "print(\"\\nCorrelation Matrix between Stocks with Stock Names:\")\n",
    "print(f\"{\"\":10s}\", end=\"\")\n",
    "for stock in stock_names:\n",
    "    print(f\"{stock:>10s}\", end=\"\")\n",
    "print()\n",
    "\n",
    "for i, row in enumerate(correlation_matrix):\n",
    "    print(f\"{stock_names[i]:>10s}\", end=\"\")\n",
    "    for value in row:\n",
    "        print(f\"{value:10.2f}\", end=\"\")\n",
    "    print()"
   ]
  }
 ],
 "metadata": {
  "kernelspec": {
   "display_name": "islp",
   "language": "python",
   "name": "python3"
  },
  "language_info": {
   "codemirror_mode": {
    "name": "ipython",
    "version": 3
   },
   "file_extension": ".py",
   "mimetype": "text/x-python",
   "name": "python",
   "nbconvert_exporter": "python",
   "pygments_lexer": "ipython3",
   "version": "3.12.3"
  }
 },
 "nbformat": 4,
 "nbformat_minor": 2
}
