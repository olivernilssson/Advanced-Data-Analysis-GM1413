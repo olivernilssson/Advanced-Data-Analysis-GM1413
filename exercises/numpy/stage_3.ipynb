{
 "cells": [
  {
   "cell_type": "markdown",
   "metadata": {},
   "source": [
    "# Exercise: Analysing stock data using NumPy"
   ]
  },
  {
   "cell_type": "markdown",
   "metadata": {},
   "source": [
    "### Stage 3: Reshape Stock Prices and Calculate Moving Averages\n",
    "Objective: Use NumPy’s reshape() to change the shape of a stock price matrix. After reshaping the data, calculate a 3-day moving average for each stock and display the results."
   ]
  },
  {
   "cell_type": "code",
   "execution_count": 8,
   "metadata": {},
   "outputs": [
    {
     "name": "stdout",
     "output_type": "stream",
     "text": [
      "NumPy version: 1.26.4\n",
      "Matplotlib version: 3.9.0\n",
      "Date: 2024-10-14 23:04:10.315827\n"
     ]
    }
   ],
   "source": [
    "import numpy as np\n",
    "import matplotlib.pyplot as plt\n",
    "import datetime\n",
    "\n",
    "print(f\"NumPy version: {np.__version__}\")\n",
    "print(f\"Matplotlib version: {plt.matplotlib.__version__}\")\n",
    "print(f\"Date: {datetime.datetime.now()}\")"
   ]
  },
  {
   "cell_type": "code",
   "execution_count": 9,
   "metadata": {},
   "outputs": [
    {
     "name": "stdout",
     "output_type": "stream",
     "text": [
      "[102.01 151.2  197.96 100.58 149.79 204.93 102.3  152.01 202.05 105.51\n",
      " 151.71 197.67 105.34 147.19 199.08 107.   148.   200.1  106.5  149.5\n",
      " 202.4  108.1  150.   201.7  109.5  148.9  203.   110.   150.2  202.8 ]\n"
     ]
    }
   ],
   "source": [
    "# Load Data from CSV, prices should be a 1D array\n",
    "dates = np.genfromtxt(\"../data/numpy1.csv\", delimiter=\",\", dtype=\"str\", skip_header=1, usecols=0)\n",
    "prices = np.genfromtxt(\"../data/numpy1.csv\", delimiter=\",\", dtype=\"float\", skip_header=1, usecols=(1, 2, 3)).flatten()\n",
    "\n",
    "dates = [datetime.datetime.strptime(date, \"%Y-%m-%d\") for date in dates]\n",
    "\n",
    "print(prices)"
   ]
  },
  {
   "cell_type": "code",
   "execution_count": 10,
   "metadata": {},
   "outputs": [
    {
     "name": "stdout",
     "output_type": "stream",
     "text": [
      "[[102.01 151.2  197.96]\n",
      " [100.58 149.79 204.93]\n",
      " [102.3  152.01 202.05]\n",
      " [105.51 151.71 197.67]\n",
      " [105.34 147.19 199.08]\n",
      " [107.   148.   200.1 ]\n",
      " [106.5  149.5  202.4 ]\n",
      " [108.1  150.   201.7 ]\n",
      " [109.5  148.9  203.  ]\n",
      " [110.   150.2  202.8 ]]\n"
     ]
    }
   ],
   "source": [
    "# Reshape prices to a 2D array\n",
    "prices = prices.reshape(-1, 3)\n",
    "print(prices)"
   ]
  },
  {
   "cell_type": "code",
   "execution_count": 14,
   "metadata": {},
   "outputs": [
    {
     "name": "stdout",
     "output_type": "stream",
     "text": [
      "Reshaped Prices:\n",
      "[[102.01 151.2  197.96]\n",
      " [100.58 149.79 204.93]\n",
      " [102.3  152.01 202.05]\n",
      " [105.51 151.71 197.67]\n",
      " [105.34 147.19 199.08]\n",
      " [107.   148.   200.1 ]\n",
      " [106.5  149.5  202.4 ]\n",
      " [108.1  150.   201.7 ]\n",
      " [109.5  148.9  203.  ]\n",
      " [110.   150.2  202.8 ]]\n",
      "\n",
      "Moving Average Prices:\n",
      "\n",
      "Stock 1 Moving Averages:\n",
      "2024-01-03 00:00:00: 101.63\n",
      "2024-01-04 00:00:00: 102.80\n",
      "2024-01-05 00:00:00: 104.38\n",
      "2024-01-06 00:00:00: 105.95\n",
      "2024-01-07 00:00:00: 106.28\n",
      "2024-01-08 00:00:00: 107.20\n",
      "2024-01-09 00:00:00: 108.03\n",
      "2024-01-10 00:00:00: 109.20\n",
      "\n",
      "Stock 2 Moving Averages:\n",
      "2024-01-03 00:00:00: 151.00\n",
      "2024-01-04 00:00:00: 151.17\n",
      "2024-01-05 00:00:00: 150.30\n",
      "2024-01-06 00:00:00: 148.97\n",
      "2024-01-07 00:00:00: 148.23\n",
      "2024-01-08 00:00:00: 149.17\n",
      "2024-01-09 00:00:00: 149.47\n",
      "2024-01-10 00:00:00: 149.70\n",
      "\n",
      "Stock 3 Moving Averages:\n",
      "2024-01-03 00:00:00: 201.65\n",
      "2024-01-04 00:00:00: 201.55\n",
      "2024-01-05 00:00:00: 199.60\n",
      "2024-01-06 00:00:00: 198.95\n",
      "2024-01-07 00:00:00: 200.53\n",
      "2024-01-08 00:00:00: 201.40\n",
      "2024-01-09 00:00:00: 202.37\n",
      "2024-01-10 00:00:00: 202.50\n"
     ]
    }
   ],
   "source": [
    "# Define a Moving Average Function\n",
    "def moving_average(data, window_size):\n",
    "    weights = np.ones(window_size) / window_size\n",
    "    return np.convolve(data, weights, mode=\"valid\")\n",
    "\n",
    "# Apply the moving average function to the prices\n",
    "stock_names = [\"Stock 1\", \"Stock 2\", \"Stock 3\"]\n",
    "window_size = 3\n",
    "ma_prices = [moving_average(prices[:, i], window_size) for i in range(3)]\n",
    "\n",
    "# Skip the first window_size - 1 dates, which have no moving average\n",
    "ma_dates = dates[window_size - 1:]\n",
    "\n",
    "print(\"Reshaped Prices:\")\n",
    "print(prices)\n",
    "\n",
    "print(\"\\nMoving Average Prices:\")\n",
    "for stock_name in stock_names:\n",
    "    print(f\"\\n{stock_name} Moving Averages:\")\n",
    "    for date, ma_value in zip(ma_dates, ma_prices[stock_names.index(stock_name)]):\n",
    "        print(f\"{date}: {ma_value:.2f}\")\n"
   ]
  }
 ],
 "metadata": {
  "kernelspec": {
   "display_name": "islp",
   "language": "python",
   "name": "python3"
  },
  "language_info": {
   "codemirror_mode": {
    "name": "ipython",
    "version": 3
   },
   "file_extension": ".py",
   "mimetype": "text/x-python",
   "name": "python",
   "nbconvert_exporter": "python",
   "pygments_lexer": "ipython3",
   "version": "3.12.3"
  }
 },
 "nbformat": 4,
 "nbformat_minor": 2
}
